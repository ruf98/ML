{
  "nbformat": 4,
  "nbformat_minor": 0,
  "metadata": {
    "colab": {
      "name": "курс DS, 3. random forest.ipynb",
      "provenance": [],
      "collapsed_sections": []
    },
    "kernelspec": {
      "name": "python3",
      "display_name": "Python 3"
    },
    "language_info": {
      "name": "python"
    }
  },
  "cells": [
    {
      "cell_type": "markdown",
      "metadata": {
        "id": "CIDpm-Gvx2d8"
      },
      "source": [
        "Курс Анатолия Карпова \"Введение в Data Science и машинное обучение\"\n",
        "\n",
        "Блок 3. **Random forest.**"
      ]
    },
    {
      "cell_type": "markdown",
      "metadata": {
        "id": "YpsQgdsc8gB7"
      },
      "source": [
        "**Разминочная задачка** - создайте модель RandomForestClassifier с 15 деревьями и максимальной глубиной равной 5 уровням, поместите её в переменную rf. Обучите модель на данных x_train и y_train, предскажите класс для наблюдений в x_test и поместите его в переменную predictions."
      ]
    },
    {
      "cell_type": "markdown",
      "metadata": {
        "id": "yrdSdXiZ80uH"
      },
      "source": [
        "rf = RandomForestClassifier(n_estimators=15, max_depth=5)\n",
        "\n",
        "rf.fit(x_train, y_train)\n",
        "\n",
        "predictions = rf.predict(x_test)"
      ]
    },
    {
      "cell_type": "code",
      "metadata": {
        "id": "5p4LKwNQFUBv"
      },
      "source": [
        "import pandas as pd\n",
        "from sklearn.model_selection import train_test_split\n",
        "from sklearn.ensemble import RandomForestClassifier\n",
        "from sklearn.model_selection import GridSearchCV"
      ],
      "execution_count": null,
      "outputs": []
    },
    {
      "cell_type": "code",
      "metadata": {
        "id": "LG_XV1qM8NQk"
      },
      "source": [
        "import matplotlib.pyplot as plt\n",
        "import numpy as np"
      ],
      "execution_count": null,
      "outputs": []
    },
    {
      "cell_type": "markdown",
      "metadata": {
        "id": "Lco_1kLJsHHt"
      },
      "source": [
        "**Задача.**\n",
        "Воспользуемся данными о сердечных заболеваниях и обучим на них Random Forest. Постройте график важности переменных для классификации и выберите среди предложенных вариантов наиболее похожий."
      ]
    },
    {
      "cell_type": "code",
      "metadata": {
        "colab": {
          "base_uri": "https://localhost:8080/",
          "height": 206
        },
        "id": "6HTDJPqK3phs",
        "outputId": "c7769e30-292c-4d8a-ddb9-f58e0c25d5e3"
      },
      "source": [
        "heart = pd.read_csv('heart.csv')\n",
        "heart.head()"
      ],
      "execution_count": null,
      "outputs": [
        {
          "output_type": "execute_result",
          "data": {
            "text/html": [
              "<div>\n",
              "<style scoped>\n",
              "    .dataframe tbody tr th:only-of-type {\n",
              "        vertical-align: middle;\n",
              "    }\n",
              "\n",
              "    .dataframe tbody tr th {\n",
              "        vertical-align: top;\n",
              "    }\n",
              "\n",
              "    .dataframe thead th {\n",
              "        text-align: right;\n",
              "    }\n",
              "</style>\n",
              "<table border=\"1\" class=\"dataframe\">\n",
              "  <thead>\n",
              "    <tr style=\"text-align: right;\">\n",
              "      <th></th>\n",
              "      <th>age</th>\n",
              "      <th>sex</th>\n",
              "      <th>cp</th>\n",
              "      <th>trestbps</th>\n",
              "      <th>chol</th>\n",
              "      <th>fbs</th>\n",
              "      <th>restecg</th>\n",
              "      <th>thalach</th>\n",
              "      <th>exang</th>\n",
              "      <th>oldpeak</th>\n",
              "      <th>slope</th>\n",
              "      <th>ca</th>\n",
              "      <th>thal</th>\n",
              "      <th>target</th>\n",
              "    </tr>\n",
              "  </thead>\n",
              "  <tbody>\n",
              "    <tr>\n",
              "      <th>0</th>\n",
              "      <td>63</td>\n",
              "      <td>1</td>\n",
              "      <td>3</td>\n",
              "      <td>145</td>\n",
              "      <td>233</td>\n",
              "      <td>1</td>\n",
              "      <td>0</td>\n",
              "      <td>150</td>\n",
              "      <td>0</td>\n",
              "      <td>2.3</td>\n",
              "      <td>0</td>\n",
              "      <td>0</td>\n",
              "      <td>1</td>\n",
              "      <td>1</td>\n",
              "    </tr>\n",
              "    <tr>\n",
              "      <th>1</th>\n",
              "      <td>37</td>\n",
              "      <td>1</td>\n",
              "      <td>2</td>\n",
              "      <td>130</td>\n",
              "      <td>250</td>\n",
              "      <td>0</td>\n",
              "      <td>1</td>\n",
              "      <td>187</td>\n",
              "      <td>0</td>\n",
              "      <td>3.5</td>\n",
              "      <td>0</td>\n",
              "      <td>0</td>\n",
              "      <td>2</td>\n",
              "      <td>1</td>\n",
              "    </tr>\n",
              "    <tr>\n",
              "      <th>2</th>\n",
              "      <td>41</td>\n",
              "      <td>0</td>\n",
              "      <td>1</td>\n",
              "      <td>130</td>\n",
              "      <td>204</td>\n",
              "      <td>0</td>\n",
              "      <td>0</td>\n",
              "      <td>172</td>\n",
              "      <td>0</td>\n",
              "      <td>1.4</td>\n",
              "      <td>2</td>\n",
              "      <td>0</td>\n",
              "      <td>2</td>\n",
              "      <td>1</td>\n",
              "    </tr>\n",
              "    <tr>\n",
              "      <th>3</th>\n",
              "      <td>56</td>\n",
              "      <td>1</td>\n",
              "      <td>1</td>\n",
              "      <td>120</td>\n",
              "      <td>236</td>\n",
              "      <td>0</td>\n",
              "      <td>1</td>\n",
              "      <td>178</td>\n",
              "      <td>0</td>\n",
              "      <td>0.8</td>\n",
              "      <td>2</td>\n",
              "      <td>0</td>\n",
              "      <td>2</td>\n",
              "      <td>1</td>\n",
              "    </tr>\n",
              "    <tr>\n",
              "      <th>4</th>\n",
              "      <td>57</td>\n",
              "      <td>0</td>\n",
              "      <td>0</td>\n",
              "      <td>120</td>\n",
              "      <td>354</td>\n",
              "      <td>0</td>\n",
              "      <td>1</td>\n",
              "      <td>163</td>\n",
              "      <td>1</td>\n",
              "      <td>0.6</td>\n",
              "      <td>2</td>\n",
              "      <td>0</td>\n",
              "      <td>2</td>\n",
              "      <td>1</td>\n",
              "    </tr>\n",
              "  </tbody>\n",
              "</table>\n",
              "</div>"
            ],
            "text/plain": [
              "   age  sex  cp  trestbps  chol  fbs  ...  exang  oldpeak  slope  ca  thal  target\n",
              "0   63    1   3       145   233    1  ...      0      2.3      0   0     1       1\n",
              "1   37    1   2       130   250    0  ...      0      3.5      0   0     2       1\n",
              "2   41    0   1       130   204    0  ...      0      1.4      2   0     2       1\n",
              "3   56    1   1       120   236    0  ...      0      0.8      2   0     2       1\n",
              "4   57    0   0       120   354    0  ...      1      0.6      2   0     2       1\n",
              "\n",
              "[5 rows x 14 columns]"
            ]
          },
          "metadata": {},
          "execution_count": 3
        }
      ]
    },
    {
      "cell_type": "code",
      "metadata": {
        "id": "4lWOvytG1r-q",
        "colab": {
          "base_uri": "https://localhost:8080/",
          "height": 500
        },
        "outputId": "50168c4a-bb2e-430c-ae9e-59e604e368db"
      },
      "source": [
        "X_train = heart.drop(['target'], axis = 1)\n",
        "y_train = heart.target\n",
        "\n",
        "np.random.seed(0)\n",
        "rf = RandomForestClassifier(10, max_depth=5)\n",
        "rf.fit(X_train, y_train)\n",
        "\n",
        "feature_importances = rf.feature_importances_\n",
        "feature_importances_df = pd.DataFrame(rf.feature_importances_, index=X_train.columns, columns=['importance'])\n",
        "feature_importances_df.sort_values('importance').plot(kind='barh', figsize=(12, 8))"
      ],
      "execution_count": null,
      "outputs": [
        {
          "output_type": "execute_result",
          "data": {
            "text/plain": [
              "<matplotlib.axes._subplots.AxesSubplot at 0x7f60cb1be590>"
            ]
          },
          "metadata": {},
          "execution_count": 4
        },
        {
          "output_type": "display_data",
          "data": {
            "image/png": "[encoded data removed]",
            "text/plain": [
              "<Figure size 864x576 with 1 Axes>"
            ]
          },
          "metadata": {
            "needs_background": "light"
          }
        }
      ]
    },
    {
      "cell_type": "markdown",
      "metadata": {
        "id": "NMJwv0uZAWxL"
      },
      "source": [
        "**Блок 3.5**\n",
        "\n",
        "**Задача.** Переберите параметры с помощью GridSearchCV и обучите Random Forest на данных, указанных в предыдущем стэпе. Передайте в GridSearchCV модель с указанием random_state\n",
        "\n",
        "Параметры для выбора -\n",
        "\n",
        "n_estimators: от 10 до 50 с шагом 10\n",
        "\n",
        "max_depth: от 1 до 12 с шагом 2\n",
        "\n",
        "min_samples_leaf: от 1 до 7\n",
        "\n",
        "min_samples_split: от 2 до 9 с шагом 2\n",
        "\n",
        "Укажите cv=3. Для ускорения расчётов в GridSearchCV можно указать n_jobs=-1, чтобы использовать все процессоры.\n",
        "\n",
        "Какие параметры Random Forest были отобраны как наилучшие для решения на этих данных?"
      ]
    },
    {
      "cell_type": "code",
      "metadata": {
        "id": "QP3fWAen-BhO",
        "colab": {
          "base_uri": "https://localhost:8080/",
          "height": 278
        },
        "outputId": "5e1f0275-64c3-4cd4-a70e-f215ff50df25"
      },
      "source": [
        " mush = pd.read_csv('https://stepik.org/media/attachments/course/4852/training_mush.csv')\n",
        " mush.head()"
      ],
      "execution_count": null,
      "outputs": [
        {
          "output_type": "execute_result",
          "data": {
            "text/html": [
              "<div>\n",
              "<style scoped>\n",
              "    .dataframe tbody tr th:only-of-type {\n",
              "        vertical-align: middle;\n",
              "    }\n",
              "\n",
              "    .dataframe tbody tr th {\n",
              "        vertical-align: top;\n",
              "    }\n",
              "\n",
              "    .dataframe thead th {\n",
              "        text-align: right;\n",
              "    }\n",
              "</style>\n",
              "<table border=\"1\" class=\"dataframe\">\n",
              "  <thead>\n",
              "    <tr style=\"text-align: right;\">\n",
              "      <th></th>\n",
              "      <th>cap-shape</th>\n",
              "      <th>cap-surface</th>\n",
              "      <th>cap-color</th>\n",
              "      <th>bruises</th>\n",
              "      <th>odor</th>\n",
              "      <th>gill-attachment</th>\n",
              "      <th>gill-spacing</th>\n",
              "      <th>gill-size</th>\n",
              "      <th>gill-color</th>\n",
              "      <th>stalk-shape</th>\n",
              "      <th>stalk-root</th>\n",
              "      <th>stalk-surface-above-ring</th>\n",
              "      <th>stalk-surface-below-ring</th>\n",
              "      <th>stalk-color-above-ring</th>\n",
              "      <th>stalk-color-below-ring</th>\n",
              "      <th>veil-type</th>\n",
              "      <th>veil-color</th>\n",
              "      <th>ring-number</th>\n",
              "      <th>ring-type</th>\n",
              "      <th>spore-print-color</th>\n",
              "      <th>population</th>\n",
              "      <th>habitat</th>\n",
              "      <th>class</th>\n",
              "    </tr>\n",
              "  </thead>\n",
              "  <tbody>\n",
              "    <tr>\n",
              "      <th>0</th>\n",
              "      <td>2</td>\n",
              "      <td>0</td>\n",
              "      <td>3</td>\n",
              "      <td>1</td>\n",
              "      <td>5</td>\n",
              "      <td>1</td>\n",
              "      <td>0</td>\n",
              "      <td>0</td>\n",
              "      <td>9</td>\n",
              "      <td>1</td>\n",
              "      <td>1</td>\n",
              "      <td>2</td>\n",
              "      <td>2</td>\n",
              "      <td>3</td>\n",
              "      <td>7</td>\n",
              "      <td>0</td>\n",
              "      <td>2</td>\n",
              "      <td>1</td>\n",
              "      <td>4</td>\n",
              "      <td>3</td>\n",
              "      <td>5</td>\n",
              "      <td>0</td>\n",
              "      <td>0</td>\n",
              "    </tr>\n",
              "    <tr>\n",
              "      <th>1</th>\n",
              "      <td>2</td>\n",
              "      <td>0</td>\n",
              "      <td>4</td>\n",
              "      <td>0</td>\n",
              "      <td>5</td>\n",
              "      <td>1</td>\n",
              "      <td>0</td>\n",
              "      <td>1</td>\n",
              "      <td>10</td>\n",
              "      <td>0</td>\n",
              "      <td>0</td>\n",
              "      <td>1</td>\n",
              "      <td>3</td>\n",
              "      <td>7</td>\n",
              "      <td>4</td>\n",
              "      <td>0</td>\n",
              "      <td>2</td>\n",
              "      <td>1</td>\n",
              "      <td>0</td>\n",
              "      <td>7</td>\n",
              "      <td>4</td>\n",
              "      <td>0</td>\n",
              "      <td>1</td>\n",
              "    </tr>\n",
              "    <tr>\n",
              "      <th>2</th>\n",
              "      <td>2</td>\n",
              "      <td>0</td>\n",
              "      <td>3</td>\n",
              "      <td>0</td>\n",
              "      <td>2</td>\n",
              "      <td>1</td>\n",
              "      <td>0</td>\n",
              "      <td>0</td>\n",
              "      <td>7</td>\n",
              "      <td>0</td>\n",
              "      <td>1</td>\n",
              "      <td>1</td>\n",
              "      <td>1</td>\n",
              "      <td>0</td>\n",
              "      <td>4</td>\n",
              "      <td>0</td>\n",
              "      <td>2</td>\n",
              "      <td>1</td>\n",
              "      <td>2</td>\n",
              "      <td>1</td>\n",
              "      <td>5</td>\n",
              "      <td>1</td>\n",
              "      <td>1</td>\n",
              "    </tr>\n",
              "    <tr>\n",
              "      <th>3</th>\n",
              "      <td>0</td>\n",
              "      <td>0</td>\n",
              "      <td>3</td>\n",
              "      <td>0</td>\n",
              "      <td>5</td>\n",
              "      <td>1</td>\n",
              "      <td>1</td>\n",
              "      <td>0</td>\n",
              "      <td>2</td>\n",
              "      <td>0</td>\n",
              "      <td>0</td>\n",
              "      <td>1</td>\n",
              "      <td>2</td>\n",
              "      <td>7</td>\n",
              "      <td>7</td>\n",
              "      <td>0</td>\n",
              "      <td>2</td>\n",
              "      <td>2</td>\n",
              "      <td>4</td>\n",
              "      <td>7</td>\n",
              "      <td>3</td>\n",
              "      <td>1</td>\n",
              "      <td>0</td>\n",
              "    </tr>\n",
              "    <tr>\n",
              "      <th>4</th>\n",
              "      <td>2</td>\n",
              "      <td>3</td>\n",
              "      <td>3</td>\n",
              "      <td>1</td>\n",
              "      <td>5</td>\n",
              "      <td>1</td>\n",
              "      <td>0</td>\n",
              "      <td>0</td>\n",
              "      <td>10</td>\n",
              "      <td>1</td>\n",
              "      <td>1</td>\n",
              "      <td>2</td>\n",
              "      <td>2</td>\n",
              "      <td>3</td>\n",
              "      <td>6</td>\n",
              "      <td>0</td>\n",
              "      <td>2</td>\n",
              "      <td>1</td>\n",
              "      <td>4</td>\n",
              "      <td>2</td>\n",
              "      <td>5</td>\n",
              "      <td>0</td>\n",
              "      <td>0</td>\n",
              "    </tr>\n",
              "  </tbody>\n",
              "</table>\n",
              "</div>"
            ],
            "text/plain": [
              "   cap-shape  cap-surface  cap-color  ...  population  habitat  class\n",
              "0          2            0          3  ...           5        0      0\n",
              "1          2            0          4  ...           4        0      1\n",
              "2          2            0          3  ...           5        1      1\n",
              "3          0            0          3  ...           3        1      0\n",
              "4          2            3          3  ...           5        0      0\n",
              "\n",
              "[5 rows x 23 columns]"
            ]
          },
          "metadata": {},
          "execution_count": 5
        }
      ]
    },
    {
      "cell_type": "code",
      "metadata": {
        "id": "1OfjPVfSC6LG",
        "colab": {
          "base_uri": "https://localhost:8080/"
        },
        "outputId": "e70839f4-7280-4b9b-a200-e11d2efbac9a"
      },
      "source": [
        "X = mush.drop(['class'], axis = 1)\n",
        "y = mush['class']\n",
        "\n",
        "rf = RandomForestClassifier(random_state=0)\n",
        "\n",
        "parametrs = {'n_estimators': range(10, 51, 10), 'max_depth': range(1, 13, 2), 'min_samples_leaf': range(1,8), 'min_samples_split': range(2, 10, 2)}\n",
        "grid_search_cv_clf = GridSearchCV(rf, parametrs, n_jobs=-1, cv=3)\n",
        "grid_search_cv_clf.fit(X, y)\n",
        "grid_search_cv_clf.best_params_"
      ],
      "execution_count": null,
      "outputs": [
        {
          "output_type": "execute_result",
          "data": {
            "text/plain": [
              "{'max_depth': 9,\n",
              " 'min_samples_leaf': 1,\n",
              " 'min_samples_split': 2,\n",
              " 'n_estimators': 10}"
            ]
          },
          "metadata": {},
          "execution_count": 6
        }
      ]
    },
    {
      "cell_type": "markdown",
      "metadata": {
        "id": "_Dy0eYN0uJMW"
      },
      "source": [
        "Важность фичей"
      ]
    },
    {
      "cell_type": "code",
      "metadata": {
        "id": "lpL73_GdCLou",
        "colab": {
          "base_uri": "https://localhost:8080/",
          "height": 739
        },
        "outputId": "caa1528e-6c81-4a05-9d55-f28857a6bc19"
      },
      "source": [
        "feature_importances_df = grid_search_cv_clf.best_estimator_.feature_importances_\n",
        "pd.DataFrame(feature_importances_df, index=X.columns, columns=['importance']).sort_values(['importance'], ascending=False)"
      ],
      "execution_count": null,
      "outputs": [
        {
          "output_type": "execute_result",
          "data": {
            "text/html": [
              "<div>\n",
              "<style scoped>\n",
              "    .dataframe tbody tr th:only-of-type {\n",
              "        vertical-align: middle;\n",
              "    }\n",
              "\n",
              "    .dataframe tbody tr th {\n",
              "        vertical-align: top;\n",
              "    }\n",
              "\n",
              "    .dataframe thead th {\n",
              "        text-align: right;\n",
              "    }\n",
              "</style>\n",
              "<table border=\"1\" class=\"dataframe\">\n",
              "  <thead>\n",
              "    <tr style=\"text-align: right;\">\n",
              "      <th></th>\n",
              "      <th>importance</th>\n",
              "    </tr>\n",
              "  </thead>\n",
              "  <tbody>\n",
              "    <tr>\n",
              "      <th>odor</th>\n",
              "      <td>0.188376</td>\n",
              "    </tr>\n",
              "    <tr>\n",
              "      <th>gill-color</th>\n",
              "      <td>0.103861</td>\n",
              "    </tr>\n",
              "    <tr>\n",
              "      <th>stalk-root</th>\n",
              "      <td>0.103793</td>\n",
              "    </tr>\n",
              "    <tr>\n",
              "      <th>spore-print-color</th>\n",
              "      <td>0.083564</td>\n",
              "    </tr>\n",
              "    <tr>\n",
              "      <th>gill-spacing</th>\n",
              "      <td>0.080840</td>\n",
              "    </tr>\n",
              "    <tr>\n",
              "      <th>ring-type</th>\n",
              "      <td>0.070726</td>\n",
              "    </tr>\n",
              "    <tr>\n",
              "      <th>bruises</th>\n",
              "      <td>0.070109</td>\n",
              "    </tr>\n",
              "    <tr>\n",
              "      <th>gill-size</th>\n",
              "      <td>0.068461</td>\n",
              "    </tr>\n",
              "    <tr>\n",
              "      <th>stalk-surface-below-ring</th>\n",
              "      <td>0.048296</td>\n",
              "    </tr>\n",
              "    <tr>\n",
              "      <th>population</th>\n",
              "      <td>0.043783</td>\n",
              "    </tr>\n",
              "    <tr>\n",
              "      <th>stalk-surface-above-ring</th>\n",
              "      <td>0.031802</td>\n",
              "    </tr>\n",
              "    <tr>\n",
              "      <th>habitat</th>\n",
              "      <td>0.022611</td>\n",
              "    </tr>\n",
              "    <tr>\n",
              "      <th>cap-color</th>\n",
              "      <td>0.021773</td>\n",
              "    </tr>\n",
              "    <tr>\n",
              "      <th>stalk-color-above-ring</th>\n",
              "      <td>0.017689</td>\n",
              "    </tr>\n",
              "    <tr>\n",
              "      <th>ring-number</th>\n",
              "      <td>0.013910</td>\n",
              "    </tr>\n",
              "    <tr>\n",
              "      <th>veil-color</th>\n",
              "      <td>0.010881</td>\n",
              "    </tr>\n",
              "    <tr>\n",
              "      <th>stalk-shape</th>\n",
              "      <td>0.007563</td>\n",
              "    </tr>\n",
              "    <tr>\n",
              "      <th>stalk-color-below-ring</th>\n",
              "      <td>0.006253</td>\n",
              "    </tr>\n",
              "    <tr>\n",
              "      <th>cap-surface</th>\n",
              "      <td>0.003130</td>\n",
              "    </tr>\n",
              "    <tr>\n",
              "      <th>cap-shape</th>\n",
              "      <td>0.002577</td>\n",
              "    </tr>\n",
              "    <tr>\n",
              "      <th>veil-type</th>\n",
              "      <td>0.000000</td>\n",
              "    </tr>\n",
              "    <tr>\n",
              "      <th>gill-attachment</th>\n",
              "      <td>0.000000</td>\n",
              "    </tr>\n",
              "  </tbody>\n",
              "</table>\n",
              "</div>"
            ],
            "text/plain": [
              "                          importance\n",
              "odor                        0.188376\n",
              "gill-color                  0.103861\n",
              "stalk-root                  0.103793\n",
              "spore-print-color           0.083564\n",
              "gill-spacing                0.080840\n",
              "ring-type                   0.070726\n",
              "bruises                     0.070109\n",
              "gill-size                   0.068461\n",
              "stalk-surface-below-ring    0.048296\n",
              "population                  0.043783\n",
              "stalk-surface-above-ring    0.031802\n",
              "habitat                     0.022611\n",
              "cap-color                   0.021773\n",
              "stalk-color-above-ring      0.017689\n",
              "ring-number                 0.013910\n",
              "veil-color                  0.010881\n",
              "stalk-shape                 0.007563\n",
              "stalk-color-below-ring      0.006253\n",
              "cap-surface                 0.003130\n",
              "cap-shape                   0.002577\n",
              "veil-type                   0.000000\n",
              "gill-attachment             0.000000"
            ]
          },
          "metadata": {},
          "execution_count": 7
        }
      ]
    },
    {
      "cell_type": "markdown",
      "metadata": {
        "id": "hZZzi8QuuVV9"
      },
      "source": [
        "**Предскажите** съедобность этих данных грибов и напишите в ответ число несъедобных грибов (класс равен 1)."
      ]
    },
    {
      "cell_type": "code",
      "metadata": {
        "colab": {
          "base_uri": "https://localhost:8080/"
        },
        "id": "R8-WnyOcFhyX",
        "outputId": "7d1cbfdc-6c0d-4ed2-da0b-c9da26c06dda"
      },
      "source": [
        "mush_test = pd.read_csv('https://stepik.org/media/attachments/course/4852/testing_mush.csv')\n",
        "y_pred = grid_search_cv_clf.best_estimator_.predict(mush_test)\n",
        "sum(y_pred)"
      ],
      "execution_count": null,
      "outputs": [
        {
          "output_type": "execute_result",
          "data": {
            "text/plain": [
              "976"
            ]
          },
          "metadata": {},
          "execution_count": 8
        }
      ]
    },
    {
      "cell_type": "markdown",
      "metadata": {
        "id": "FDvUE_3AumRp"
      },
      "source": [
        "Создайте **confusion matrix** по предсказаниям, полученным вами в прошлом уроке и правильным ответам."
      ]
    },
    {
      "cell_type": "code",
      "metadata": {
        "id": "wOHJvTgWGxUE",
        "colab": {
          "base_uri": "https://localhost:8080/",
          "height": 282
        },
        "outputId": "f00b6b0c-8cec-4bf4-a499-eadad1c18d4b"
      },
      "source": [
        "import seaborn as sns\n",
        "from sklearn.metrics import confusion_matrix\n",
        "\n",
        "y_test = pd.read_csv('testing_y_mush.csv')\n",
        "sns.heatmap(confusion_matrix(y_test, y_pred), annot=True, cmap=\"Blues\")"
      ],
      "execution_count": null,
      "outputs": [
        {
          "output_type": "execute_result",
          "data": {
            "text/plain": [
              "<matplotlib.axes._subplots.AxesSubplot at 0x7f60ca732490>"
            ]
          },
          "metadata": {},
          "execution_count": 9
        },
        {
          "output_type": "display_data",
          "data": {
            "image/png": "[encoded data removed]",
            "text/plain": [
              "<Figure size 432x288 with 2 Axes>"
            ]
          },
          "metadata": {
            "needs_background": "light"
          }
        }
      ]
    },
    {
      "cell_type": "markdown",
      "metadata": {
        "id": "jUa-V0yqOa-M"
      },
      "source": [
        "**Задача** На Землю нападают войска жукеров, и в их флоте присутствуют транспортники, истребители и крейсеры. Для борьбы с каждым типом кораблей используется свой вид оружия. Как аналитику из Штаба Обороны, вам поручено разработать модель, предсказывающую какие корабли участвуют в атаке, чтобы успешно отбить нападения на различные области планеты\n",
        "\n",
        "Данных удалось собрать немного, и предсказывать придётся гораздо больший по объёму массив.\n",
        "\n",
        "Обучите модель и предскажите классы кораблей для новых поступающих данных. Укажите в ответе через пробел число крейсеров, транспортников и истребителей.\n",
        "\n",
        "От вашего ответа зависит судьба человечества!"
      ]
    },
    {
      "cell_type": "code",
      "metadata": {
        "colab": {
          "base_uri": "https://localhost:8080/",
          "height": 206
        },
        "id": "jYw4Ra1qK2o7",
        "outputId": "f7ac0e9b-bdb2-4567-86b4-9d61c96e7b69"
      },
      "source": [
        "attack = pd.read_csv('https://stepik.org/media/attachments/course/4852/invasion.csv')\n",
        "attack_test = pd.read_csv('https://stepik.org/media/attachments/course/4852/operative_information.csv')\n",
        "attack.head()"
      ],
      "execution_count": null,
      "outputs": [
        {
          "output_type": "execute_result",
          "data": {
            "text/html": [
              "<div>\n",
              "<style scoped>\n",
              "    .dataframe tbody tr th:only-of-type {\n",
              "        vertical-align: middle;\n",
              "    }\n",
              "\n",
              "    .dataframe tbody tr th {\n",
              "        vertical-align: top;\n",
              "    }\n",
              "\n",
              "    .dataframe thead th {\n",
              "        text-align: right;\n",
              "    }\n",
              "</style>\n",
              "<table border=\"1\" class=\"dataframe\">\n",
              "  <thead>\n",
              "    <tr style=\"text-align: right;\">\n",
              "      <th></th>\n",
              "      <th>class</th>\n",
              "      <th>g_reflection</th>\n",
              "      <th>i_reflection</th>\n",
              "      <th>speed</th>\n",
              "      <th>brightness</th>\n",
              "      <th>time_of_observance</th>\n",
              "      <th>volume</th>\n",
              "    </tr>\n",
              "  </thead>\n",
              "  <tbody>\n",
              "    <tr>\n",
              "      <th>0</th>\n",
              "      <td>transport</td>\n",
              "      <td>2.190672</td>\n",
              "      <td>6.716633</td>\n",
              "      <td>62.168208</td>\n",
              "      <td>0.347465</td>\n",
              "      <td>158221</td>\n",
              "      <td>44.932446</td>\n",
              "    </tr>\n",
              "    <tr>\n",
              "      <th>1</th>\n",
              "      <td>transport</td>\n",
              "      <td>3.453276</td>\n",
              "      <td>8.995909</td>\n",
              "      <td>62.994707</td>\n",
              "      <td>0.590094</td>\n",
              "      <td>385972</td>\n",
              "      <td>41.568300</td>\n",
              "    </tr>\n",
              "    <tr>\n",
              "      <th>2</th>\n",
              "      <td>transport</td>\n",
              "      <td>2.432994</td>\n",
              "      <td>6.938691</td>\n",
              "      <td>62.245807</td>\n",
              "      <td>0.329288</td>\n",
              "      <td>446482</td>\n",
              "      <td>40.123467</td>\n",
              "    </tr>\n",
              "    <tr>\n",
              "      <th>3</th>\n",
              "      <td>fighter</td>\n",
              "      <td>6.083763</td>\n",
              "      <td>3.019459</td>\n",
              "      <td>18.474555</td>\n",
              "      <td>0.174738</td>\n",
              "      <td>210125</td>\n",
              "      <td>11.384865</td>\n",
              "    </tr>\n",
              "    <tr>\n",
              "      <th>4</th>\n",
              "      <td>fighter</td>\n",
              "      <td>12.876769</td>\n",
              "      <td>2.452950</td>\n",
              "      <td>195.805771</td>\n",
              "      <td>0.150446</td>\n",
              "      <td>23109</td>\n",
              "      <td>11.328806</td>\n",
              "    </tr>\n",
              "  </tbody>\n",
              "</table>\n",
              "</div>"
            ],
            "text/plain": [
              "       class  g_reflection  ...  time_of_observance     volume\n",
              "0  transport      2.190672  ...              158221  44.932446\n",
              "1  transport      3.453276  ...              385972  41.568300\n",
              "2  transport      2.432994  ...              446482  40.123467\n",
              "3    fighter      6.083763  ...              210125  11.384865\n",
              "4    fighter     12.876769  ...               23109  11.328806\n",
              "\n",
              "[5 rows x 7 columns]"
            ]
          },
          "metadata": {},
          "execution_count": 10
        }
      ]
    },
    {
      "cell_type": "code",
      "metadata": {
        "colab": {
          "base_uri": "https://localhost:8080/"
        },
        "id": "hOqM0h2K18bf",
        "outputId": "6114a046-2c8b-4a45-f26c-ee126f8652a4"
      },
      "source": [
        "attack['class'] = attack['class'].apply(lambda x: 0 if x=='cruiser' else 1 if x=='transport' else 2)\n",
        "\n",
        "X_train = attack.drop(['class'], axis=1)\n",
        "y_train = attack['class']\n",
        "\n",
        "rf = RandomForestClassifier()\n",
        "\n",
        "parametrs = {'n_estimators': range(10, 51, 10), 'max_depth': range(1, 13, 2), 'min_samples_leaf': range(1,8), 'min_samples_split': range(2, 10, 2)}\n",
        "grid_search_cv_clf = GridSearchCV(rf, parametrs, n_jobs=-1, cv=3)\n",
        "grid_search_cv_clf.fit(X_train, y_train)\n",
        "best_clf = grid_search_cv_clf.best_estimator_\n",
        "y_pred = best_clf.predict(attack_test)\n",
        "pd.Series(y_pred).value_counts()"
      ],
      "execution_count": null,
      "outputs": [
        {
          "output_type": "execute_result",
          "data": {
            "text/plain": [
              "2    675\n",
              "1    595\n",
              "0    230\n",
              "dtype: int64"
            ]
          },
          "metadata": {},
          "execution_count": 11
        }
      ]
    },
    {
      "cell_type": "code",
      "metadata": {
        "colab": {
          "base_uri": "https://localhost:8080/",
          "height": 238
        },
        "id": "r_1AmfnILOYn",
        "outputId": "008fd51e-083c-44ab-df7c-ee90558c63af"
      },
      "source": [
        "feature_importances_df = best_clf.feature_importances_\n",
        "pd.DataFrame(feature_importances_df, index=X_train.columns, columns=['importance']).sort_values(['importance'], ascending=False)"
      ],
      "execution_count": null,
      "outputs": [
        {
          "output_type": "execute_result",
          "data": {
            "text/html": [
              "<div>\n",
              "<style scoped>\n",
              "    .dataframe tbody tr th:only-of-type {\n",
              "        vertical-align: middle;\n",
              "    }\n",
              "\n",
              "    .dataframe tbody tr th {\n",
              "        vertical-align: top;\n",
              "    }\n",
              "\n",
              "    .dataframe thead th {\n",
              "        text-align: right;\n",
              "    }\n",
              "</style>\n",
              "<table border=\"1\" class=\"dataframe\">\n",
              "  <thead>\n",
              "    <tr style=\"text-align: right;\">\n",
              "      <th></th>\n",
              "      <th>importance</th>\n",
              "    </tr>\n",
              "  </thead>\n",
              "  <tbody>\n",
              "    <tr>\n",
              "      <th>volume</th>\n",
              "      <td>0.518561</td>\n",
              "    </tr>\n",
              "    <tr>\n",
              "      <th>i_reflection</th>\n",
              "      <td>0.167066</td>\n",
              "    </tr>\n",
              "    <tr>\n",
              "      <th>g_reflection</th>\n",
              "      <td>0.161721</td>\n",
              "    </tr>\n",
              "    <tr>\n",
              "      <th>brightness</th>\n",
              "      <td>0.123636</td>\n",
              "    </tr>\n",
              "    <tr>\n",
              "      <th>speed</th>\n",
              "      <td>0.029016</td>\n",
              "    </tr>\n",
              "    <tr>\n",
              "      <th>time_of_observance</th>\n",
              "      <td>0.000000</td>\n",
              "    </tr>\n",
              "  </tbody>\n",
              "</table>\n",
              "</div>"
            ],
            "text/plain": [
              "                    importance\n",
              "volume                0.518561\n",
              "i_reflection          0.167066\n",
              "g_reflection          0.161721\n",
              "brightness            0.123636\n",
              "speed                 0.029016\n",
              "time_of_observance    0.000000"
            ]
          },
          "metadata": {},
          "execution_count": 12
        }
      ]
    },
    {
      "cell_type": "markdown",
      "metadata": {
        "id": "LzaKN9l6xOQP"
      },
      "source": [
        "**Задача.** Проанализируйте имеющиеся данные об опасности разных регионов космоса и укажите наиболее вероятные причины угрозы"
      ]
    },
    {
      "cell_type": "code",
      "metadata": {
        "colab": {
          "base_uri": "https://localhost:8080/",
          "height": 206
        },
        "id": "_5mwU_OTFXcO",
        "outputId": "50e01b45-705f-42da-c988-a8ae6f78bef8"
      },
      "source": [
        "place = pd.read_csv('https://stepik.org/media/attachments/course/4852/space_can_be_a_dangerous_place.csv')\n",
        "place.head()"
      ],
      "execution_count": null,
      "outputs": [
        {
          "output_type": "execute_result",
          "data": {
            "text/html": [
              "<div>\n",
              "<style scoped>\n",
              "    .dataframe tbody tr th:only-of-type {\n",
              "        vertical-align: middle;\n",
              "    }\n",
              "\n",
              "    .dataframe tbody tr th {\n",
              "        vertical-align: top;\n",
              "    }\n",
              "\n",
              "    .dataframe thead th {\n",
              "        text-align: right;\n",
              "    }\n",
              "</style>\n",
              "<table border=\"1\" class=\"dataframe\">\n",
              "  <thead>\n",
              "    <tr style=\"text-align: right;\">\n",
              "      <th></th>\n",
              "      <th>r</th>\n",
              "      <th>phi</th>\n",
              "      <th>peradventure_index</th>\n",
              "      <th>dustiness</th>\n",
              "      <th>black_hole_is_near</th>\n",
              "      <th>buggers_were_noticed</th>\n",
              "      <th>nearby_system_has_planemo</th>\n",
              "      <th>dangerous</th>\n",
              "    </tr>\n",
              "  </thead>\n",
              "  <tbody>\n",
              "    <tr>\n",
              "      <th>0</th>\n",
              "      <td>169.1</td>\n",
              "      <td>138.0</td>\n",
              "      <td>22.3212</td>\n",
              "      <td>0.706285</td>\n",
              "      <td>0</td>\n",
              "      <td>1</td>\n",
              "      <td>1</td>\n",
              "      <td>1</td>\n",
              "    </tr>\n",
              "    <tr>\n",
              "      <th>1</th>\n",
              "      <td>11.1</td>\n",
              "      <td>148.0</td>\n",
              "      <td>1.4652</td>\n",
              "      <td>-0.410512</td>\n",
              "      <td>1</td>\n",
              "      <td>1</td>\n",
              "      <td>1</td>\n",
              "      <td>1</td>\n",
              "    </tr>\n",
              "    <tr>\n",
              "      <th>2</th>\n",
              "      <td>274.6</td>\n",
              "      <td>201.0</td>\n",
              "      <td>36.2472</td>\n",
              "      <td>0.756457</td>\n",
              "      <td>1</td>\n",
              "      <td>1</td>\n",
              "      <td>1</td>\n",
              "      <td>1</td>\n",
              "    </tr>\n",
              "    <tr>\n",
              "      <th>3</th>\n",
              "      <td>172.8</td>\n",
              "      <td>173.0</td>\n",
              "      <td>22.8096</td>\n",
              "      <td>0.035221</td>\n",
              "      <td>1</td>\n",
              "      <td>1</td>\n",
              "      <td>1</td>\n",
              "      <td>1</td>\n",
              "    </tr>\n",
              "    <tr>\n",
              "      <th>4</th>\n",
              "      <td>223.3</td>\n",
              "      <td>222.0</td>\n",
              "      <td>29.4756</td>\n",
              "      <td>0.197271</td>\n",
              "      <td>0</td>\n",
              "      <td>1</td>\n",
              "      <td>1</td>\n",
              "      <td>1</td>\n",
              "    </tr>\n",
              "  </tbody>\n",
              "</table>\n",
              "</div>"
            ],
            "text/plain": [
              "       r    phi  ...  nearby_system_has_planemo  dangerous\n",
              "0  169.1  138.0  ...                          1          1\n",
              "1   11.1  148.0  ...                          1          1\n",
              "2  274.6  201.0  ...                          1          1\n",
              "3  172.8  173.0  ...                          1          1\n",
              "4  223.3  222.0  ...                          1          1\n",
              "\n",
              "[5 rows x 8 columns]"
            ]
          },
          "metadata": {},
          "execution_count": 13
        }
      ]
    },
    {
      "cell_type": "code",
      "metadata": {
        "colab": {
          "base_uri": "https://localhost:8080/",
          "height": 320
        },
        "id": "Xt9z6ev3Z9PI",
        "outputId": "3178cdbe-d3c8-4d30-cddc-d63eee6174c8"
      },
      "source": [
        "place.corr()"
      ],
      "execution_count": null,
      "outputs": [
        {
          "output_type": "execute_result",
          "data": {
            "text/html": [
              "<div>\n",
              "<style scoped>\n",
              "    .dataframe tbody tr th:only-of-type {\n",
              "        vertical-align: middle;\n",
              "    }\n",
              "\n",
              "    .dataframe tbody tr th {\n",
              "        vertical-align: top;\n",
              "    }\n",
              "\n",
              "    .dataframe thead th {\n",
              "        text-align: right;\n",
              "    }\n",
              "</style>\n",
              "<table border=\"1\" class=\"dataframe\">\n",
              "  <thead>\n",
              "    <tr style=\"text-align: right;\">\n",
              "      <th></th>\n",
              "      <th>r</th>\n",
              "      <th>phi</th>\n",
              "      <th>peradventure_index</th>\n",
              "      <th>dustiness</th>\n",
              "      <th>black_hole_is_near</th>\n",
              "      <th>buggers_were_noticed</th>\n",
              "      <th>nearby_system_has_planemo</th>\n",
              "      <th>dangerous</th>\n",
              "    </tr>\n",
              "  </thead>\n",
              "  <tbody>\n",
              "    <tr>\n",
              "      <th>r</th>\n",
              "      <td>1.000000</td>\n",
              "      <td>0.001023</td>\n",
              "      <td>1.000000</td>\n",
              "      <td>-0.003336</td>\n",
              "      <td>0.002337</td>\n",
              "      <td>0.001797</td>\n",
              "      <td>0.000326</td>\n",
              "      <td>0.005788</td>\n",
              "    </tr>\n",
              "    <tr>\n",
              "      <th>phi</th>\n",
              "      <td>0.001023</td>\n",
              "      <td>1.000000</td>\n",
              "      <td>0.001023</td>\n",
              "      <td>0.001921</td>\n",
              "      <td>0.002875</td>\n",
              "      <td>-0.004726</td>\n",
              "      <td>-0.000803</td>\n",
              "      <td>0.003035</td>\n",
              "    </tr>\n",
              "    <tr>\n",
              "      <th>peradventure_index</th>\n",
              "      <td>1.000000</td>\n",
              "      <td>0.001023</td>\n",
              "      <td>1.000000</td>\n",
              "      <td>-0.003336</td>\n",
              "      <td>0.002337</td>\n",
              "      <td>0.001797</td>\n",
              "      <td>0.000326</td>\n",
              "      <td>0.005788</td>\n",
              "    </tr>\n",
              "    <tr>\n",
              "      <th>dustiness</th>\n",
              "      <td>-0.003336</td>\n",
              "      <td>0.001921</td>\n",
              "      <td>-0.003336</td>\n",
              "      <td>1.000000</td>\n",
              "      <td>-0.004691</td>\n",
              "      <td>-0.001290</td>\n",
              "      <td>0.003370</td>\n",
              "      <td>-0.000499</td>\n",
              "    </tr>\n",
              "    <tr>\n",
              "      <th>black_hole_is_near</th>\n",
              "      <td>0.002337</td>\n",
              "      <td>0.002875</td>\n",
              "      <td>0.002337</td>\n",
              "      <td>-0.004691</td>\n",
              "      <td>1.000000</td>\n",
              "      <td>-0.001874</td>\n",
              "      <td>0.002661</td>\n",
              "      <td>0.052968</td>\n",
              "    </tr>\n",
              "    <tr>\n",
              "      <th>buggers_were_noticed</th>\n",
              "      <td>0.001797</td>\n",
              "      <td>-0.004726</td>\n",
              "      <td>0.001797</td>\n",
              "      <td>-0.001290</td>\n",
              "      <td>-0.001874</td>\n",
              "      <td>1.000000</td>\n",
              "      <td>-0.003031</td>\n",
              "      <td>0.344469</td>\n",
              "    </tr>\n",
              "    <tr>\n",
              "      <th>nearby_system_has_planemo</th>\n",
              "      <td>0.000326</td>\n",
              "      <td>-0.000803</td>\n",
              "      <td>0.000326</td>\n",
              "      <td>0.003370</td>\n",
              "      <td>0.002661</td>\n",
              "      <td>-0.003031</td>\n",
              "      <td>1.000000</td>\n",
              "      <td>0.299508</td>\n",
              "    </tr>\n",
              "    <tr>\n",
              "      <th>dangerous</th>\n",
              "      <td>0.005788</td>\n",
              "      <td>0.003035</td>\n",
              "      <td>0.005788</td>\n",
              "      <td>-0.000499</td>\n",
              "      <td>0.052968</td>\n",
              "      <td>0.344469</td>\n",
              "      <td>0.299508</td>\n",
              "      <td>1.000000</td>\n",
              "    </tr>\n",
              "  </tbody>\n",
              "</table>\n",
              "</div>"
            ],
            "text/plain": [
              "                                  r  ...  dangerous\n",
              "r                          1.000000  ...   0.005788\n",
              "phi                        0.001023  ...   0.003035\n",
              "peradventure_index         1.000000  ...   0.005788\n",
              "dustiness                 -0.003336  ...  -0.000499\n",
              "black_hole_is_near         0.002337  ...   0.052968\n",
              "buggers_were_noticed       0.001797  ...   0.344469\n",
              "nearby_system_has_planemo  0.000326  ...   0.299508\n",
              "dangerous                  0.005788  ...   1.000000\n",
              "\n",
              "[8 rows x 8 columns]"
            ]
          },
          "metadata": {},
          "execution_count": 14
        }
      ]
    }
  ]
}